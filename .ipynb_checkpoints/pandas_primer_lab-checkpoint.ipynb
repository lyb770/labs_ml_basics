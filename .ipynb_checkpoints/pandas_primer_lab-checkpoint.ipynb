{
 "cells": [
  {
   "cell_type": "markdown",
   "metadata": {},
   "source": [
    "# Pandas lab with Titanic"
   ]
  },
  {
   "cell_type": "markdown",
   "metadata": {},
   "source": [
    "## 1. Pandas\n",
    "Pandas is a library that helps you load the data, prepare it and perform some basic statistical analysis. The main object is the `pandas.DataFrame` - a 2d table with batteries included. \n",
    "\n",
    "In this lab we use `pandas` to read the data on the infamous titanic shipwreck, and answer some questions about the dataset.\n",
    "\n",
    "__Keep running all the code cells as you read__."
   ]
  },
  {
   "cell_type": "markdown",
   "metadata": {
    "collapsed": true
   },
   "source": [
    "### 1.1. Sample dataset\n",
    "Download the data file [titanic.csv](https://docs.google.com/spreadsheets/d/1QGNxqRU02eAvTGih1t0cErB5R05mdOdUBgJZACGcuvs/edit?usp=sharing) to your local directory.\n",
    "\n",
    "__Update the variable `file_name` in the cell below with the relative path to your local directory where you will store the datasets for this course__ and then run the cell."
   ]
  },
  {
   "cell_type": "code",
   "execution_count": 5,
   "metadata": {},
   "outputs": [],
   "source": [
    "file_name = \"../titanic.csv - titanic.csv\""
   ]
  },
  {
   "cell_type": "markdown",
   "metadata": {},
   "source": [
    "Read a dataset into a pandas DataFrame object. Each record is indexed by a passenger id, stored in a column _PassengerId_."
   ]
  },
  {
   "cell_type": "code",
   "execution_count": 6,
   "metadata": {},
   "outputs": [],
   "source": [
    "import pandas as pd\n",
    "\n",
    "# this creates a pandas.DataFrame\n",
    "data = pd.read_csv(file_name, index_col='PassengerId')"
   ]
  },
  {
   "cell_type": "code",
   "execution_count": 10,
   "metadata": {},
   "outputs": [
    {
     "data": {
      "text/html": [
       "<div>\n",
       "<style scoped>\n",
       "    .dataframe tbody tr th:only-of-type {\n",
       "        vertical-align: middle;\n",
       "    }\n",
       "\n",
       "    .dataframe tbody tr th {\n",
       "        vertical-align: top;\n",
       "    }\n",
       "\n",
       "    .dataframe thead th {\n",
       "        text-align: right;\n",
       "    }\n",
       "</style>\n",
       "<table border=\"1\" class=\"dataframe\">\n",
       "  <thead>\n",
       "    <tr style=\"text-align: right;\">\n",
       "      <th></th>\n",
       "      <th>Survived</th>\n",
       "      <th>Pclass</th>\n",
       "      <th>Name</th>\n",
       "      <th>Sex</th>\n",
       "      <th>Age</th>\n",
       "      <th>SibSp</th>\n",
       "      <th>Parch</th>\n",
       "      <th>Ticket</th>\n",
       "      <th>Fare</th>\n",
       "      <th>Cabin</th>\n",
       "      <th>Embarked</th>\n",
       "    </tr>\n",
       "    <tr>\n",
       "      <th>PassengerId</th>\n",
       "      <th></th>\n",
       "      <th></th>\n",
       "      <th></th>\n",
       "      <th></th>\n",
       "      <th></th>\n",
       "      <th></th>\n",
       "      <th></th>\n",
       "      <th></th>\n",
       "      <th></th>\n",
       "      <th></th>\n",
       "      <th></th>\n",
       "    </tr>\n",
       "  </thead>\n",
       "  <tbody>\n",
       "    <tr>\n",
       "      <th>1</th>\n",
       "      <td>0</td>\n",
       "      <td>3</td>\n",
       "      <td>Braund, Mr. Owen Harris</td>\n",
       "      <td>male</td>\n",
       "      <td>22.0</td>\n",
       "      <td>1</td>\n",
       "      <td>0</td>\n",
       "      <td>A/5 21171</td>\n",
       "      <td>7.2500</td>\n",
       "      <td>NaN</td>\n",
       "      <td>S</td>\n",
       "    </tr>\n",
       "    <tr>\n",
       "      <th>2</th>\n",
       "      <td>1</td>\n",
       "      <td>1</td>\n",
       "      <td>Cumings, Mrs. John Bradley (Florence Briggs Th...</td>\n",
       "      <td>female</td>\n",
       "      <td>38.0</td>\n",
       "      <td>1</td>\n",
       "      <td>0</td>\n",
       "      <td>PC 17599</td>\n",
       "      <td>71.2833</td>\n",
       "      <td>C85</td>\n",
       "      <td>C</td>\n",
       "    </tr>\n",
       "    <tr>\n",
       "      <th>3</th>\n",
       "      <td>1</td>\n",
       "      <td>3</td>\n",
       "      <td>Heikkinen, Miss. Laina</td>\n",
       "      <td>female</td>\n",
       "      <td>26.0</td>\n",
       "      <td>0</td>\n",
       "      <td>0</td>\n",
       "      <td>STON/O2. 3101282</td>\n",
       "      <td>7.9250</td>\n",
       "      <td>NaN</td>\n",
       "      <td>S</td>\n",
       "    </tr>\n",
       "    <tr>\n",
       "      <th>4</th>\n",
       "      <td>1</td>\n",
       "      <td>1</td>\n",
       "      <td>Futrelle, Mrs. Jacques Heath (Lily May Peel)</td>\n",
       "      <td>female</td>\n",
       "      <td>35.0</td>\n",
       "      <td>1</td>\n",
       "      <td>0</td>\n",
       "      <td>113803</td>\n",
       "      <td>53.1000</td>\n",
       "      <td>C123</td>\n",
       "      <td>S</td>\n",
       "    </tr>\n",
       "    <tr>\n",
       "      <th>5</th>\n",
       "      <td>0</td>\n",
       "      <td>3</td>\n",
       "      <td>Allen, Mr. William Henry</td>\n",
       "      <td>male</td>\n",
       "      <td>35.0</td>\n",
       "      <td>0</td>\n",
       "      <td>0</td>\n",
       "      <td>373450</td>\n",
       "      <td>8.0500</td>\n",
       "      <td>NaN</td>\n",
       "      <td>S</td>\n",
       "    </tr>\n",
       "    <tr>\n",
       "      <th>6</th>\n",
       "      <td>0</td>\n",
       "      <td>3</td>\n",
       "      <td>Moran, Mr. James</td>\n",
       "      <td>male</td>\n",
       "      <td>NaN</td>\n",
       "      <td>0</td>\n",
       "      <td>0</td>\n",
       "      <td>330877</td>\n",
       "      <td>8.4583</td>\n",
       "      <td>NaN</td>\n",
       "      <td>Q</td>\n",
       "    </tr>\n",
       "    <tr>\n",
       "      <th>7</th>\n",
       "      <td>0</td>\n",
       "      <td>1</td>\n",
       "      <td>McCarthy, Mr. Timothy J</td>\n",
       "      <td>male</td>\n",
       "      <td>54.0</td>\n",
       "      <td>0</td>\n",
       "      <td>0</td>\n",
       "      <td>17463</td>\n",
       "      <td>51.8625</td>\n",
       "      <td>E46</td>\n",
       "      <td>S</td>\n",
       "    </tr>\n",
       "    <tr>\n",
       "      <th>8</th>\n",
       "      <td>0</td>\n",
       "      <td>3</td>\n",
       "      <td>Palsson, Master. Gosta Leonard</td>\n",
       "      <td>male</td>\n",
       "      <td>2.0</td>\n",
       "      <td>3</td>\n",
       "      <td>1</td>\n",
       "      <td>349909</td>\n",
       "      <td>21.0750</td>\n",
       "      <td>NaN</td>\n",
       "      <td>S</td>\n",
       "    </tr>\n",
       "    <tr>\n",
       "      <th>9</th>\n",
       "      <td>1</td>\n",
       "      <td>3</td>\n",
       "      <td>Johnson, Mrs. Oscar W (Elisabeth Vilhelmina Berg)</td>\n",
       "      <td>female</td>\n",
       "      <td>27.0</td>\n",
       "      <td>0</td>\n",
       "      <td>2</td>\n",
       "      <td>347742</td>\n",
       "      <td>11.1333</td>\n",
       "      <td>NaN</td>\n",
       "      <td>S</td>\n",
       "    </tr>\n",
       "    <tr>\n",
       "      <th>10</th>\n",
       "      <td>1</td>\n",
       "      <td>2</td>\n",
       "      <td>Nasser, Mrs. Nicholas (Adele Achem)</td>\n",
       "      <td>female</td>\n",
       "      <td>14.0</td>\n",
       "      <td>1</td>\n",
       "      <td>0</td>\n",
       "      <td>237736</td>\n",
       "      <td>30.0708</td>\n",
       "      <td>NaN</td>\n",
       "      <td>C</td>\n",
       "    </tr>\n",
       "  </tbody>\n",
       "</table>\n",
       "</div>"
      ],
      "text/plain": [
       "             Survived  Pclass  \\\n",
       "PassengerId                     \n",
       "1                   0       3   \n",
       "2                   1       1   \n",
       "3                   1       3   \n",
       "4                   1       1   \n",
       "5                   0       3   \n",
       "6                   0       3   \n",
       "7                   0       1   \n",
       "8                   0       3   \n",
       "9                   1       3   \n",
       "10                  1       2   \n",
       "\n",
       "                                                          Name     Sex   Age  \\\n",
       "PassengerId                                                                    \n",
       "1                                      Braund, Mr. Owen Harris    male  22.0   \n",
       "2            Cumings, Mrs. John Bradley (Florence Briggs Th...  female  38.0   \n",
       "3                                       Heikkinen, Miss. Laina  female  26.0   \n",
       "4                 Futrelle, Mrs. Jacques Heath (Lily May Peel)  female  35.0   \n",
       "5                                     Allen, Mr. William Henry    male  35.0   \n",
       "6                                             Moran, Mr. James    male   NaN   \n",
       "7                                      McCarthy, Mr. Timothy J    male  54.0   \n",
       "8                               Palsson, Master. Gosta Leonard    male   2.0   \n",
       "9            Johnson, Mrs. Oscar W (Elisabeth Vilhelmina Berg)  female  27.0   \n",
       "10                         Nasser, Mrs. Nicholas (Adele Achem)  female  14.0   \n",
       "\n",
       "             SibSp  Parch            Ticket     Fare Cabin Embarked  \n",
       "PassengerId                                                          \n",
       "1                1      0         A/5 21171   7.2500   NaN        S  \n",
       "2                1      0          PC 17599  71.2833   C85        C  \n",
       "3                0      0  STON/O2. 3101282   7.9250   NaN        S  \n",
       "4                1      0            113803  53.1000  C123        S  \n",
       "5                0      0            373450   8.0500   NaN        S  \n",
       "6                0      0            330877   8.4583   NaN        Q  \n",
       "7                0      0             17463  51.8625   E46        S  \n",
       "8                3      1            349909  21.0750   NaN        S  \n",
       "9                0      2            347742  11.1333   NaN        S  \n",
       "10               1      0            237736  30.0708   NaN        C  "
      ]
     },
     "execution_count": 10,
     "metadata": {},
     "output_type": "execute_result"
    }
   ],
   "source": [
    "# Selecting rows\n",
    "head = data[:10]\n",
    "\n",
    "head # if you leave an expression at the end of a cell, jupyter will \"display\" it automatically"
   ]
  },
  {
   "cell_type": "markdown",
   "metadata": {},
   "source": [
    "#### Some dataset variables\n",
    "* Name - a string with person's full name\n",
    "* Survived - 1 if a person survived the shipwreck, 0 otherwise.\n",
    "* Pclass - passenger class. Pclass == 3 is cheap'n'cheerful, Pclass == 1 is for moneybags.\n",
    "* Sex - a person's gender (in those ol' times when just 2 of them were allowed)\n",
    "* Age - age in years, if available\n",
    "* Sibsp - number of siblings on a ship\n",
    "* Parch - number of parents on a ship\n",
    "* Fare - ticket cost\n",
    "* Embarked - port where the passenger embarked\n",
    " * C = Cherbourg; Q = Queenstown; S = Southampton"
   ]
  },
  {
   "cell_type": "markdown",
   "metadata": {},
   "source": [
    "### 1.2. Pandas basics"
   ]
  },
  {
   "cell_type": "code",
   "execution_count": 11,
   "metadata": {},
   "outputs": [
    {
     "name": "stdout",
     "output_type": "stream",
     "text": [
      "len(data) =  891\n",
      "data.shape =  (891, 11)\n"
     ]
    }
   ],
   "source": [
    "# table dimensions\n",
    "print(\"len(data) = \", len(data))\n",
    "print(\"data.shape = \", data.shape)"
   ]
  },
  {
   "cell_type": "code",
   "execution_count": 12,
   "metadata": {},
   "outputs": [
    {
     "name": "stdout",
     "output_type": "stream",
     "text": [
      "Survived                                               1\n",
      "Pclass                                                 1\n",
      "Name        Futrelle, Mrs. Jacques Heath (Lily May Peel)\n",
      "Sex                                               female\n",
      "Age                                                   35\n",
      "SibSp                                                  1\n",
      "Parch                                                  0\n",
      "Ticket                                            113803\n",
      "Fare                                                53.1\n",
      "Cabin                                               C123\n",
      "Embarked                                               S\n",
      "Name: 4, dtype: object\n"
     ]
    }
   ],
   "source": [
    "# select a single row\n",
    "print(data.loc[4])"
   ]
  },
  {
   "cell_type": "code",
   "execution_count": 13,
   "metadata": {},
   "outputs": [
    {
     "name": "stdout",
     "output_type": "stream",
     "text": [
      "PassengerId\n",
      "1     22.0\n",
      "2     38.0\n",
      "3     26.0\n",
      "4     35.0\n",
      "5     35.0\n",
      "6      NaN\n",
      "7     54.0\n",
      "8      2.0\n",
      "9     27.0\n",
      "10    14.0\n",
      "Name: Age, dtype: float64\n"
     ]
    }
   ],
   "source": [
    "# select a single column.\n",
    "ages = data[\"Age\"] # alternatively: data.Age\n",
    "print(ages[:10])  "
   ]
  },
  {
   "cell_type": "code",
   "execution_count": 14,
   "metadata": {},
   "outputs": [
    {
     "data": {
      "text/html": [
       "<div>\n",
       "<style scoped>\n",
       "    .dataframe tbody tr th:only-of-type {\n",
       "        vertical-align: middle;\n",
       "    }\n",
       "\n",
       "    .dataframe tbody tr th {\n",
       "        vertical-align: top;\n",
       "    }\n",
       "\n",
       "    .dataframe thead th {\n",
       "        text-align: right;\n",
       "    }\n",
       "</style>\n",
       "<table border=\"1\" class=\"dataframe\">\n",
       "  <thead>\n",
       "    <tr style=\"text-align: right;\">\n",
       "      <th></th>\n",
       "      <th>Fare</th>\n",
       "      <th>Pclass</th>\n",
       "    </tr>\n",
       "    <tr>\n",
       "      <th>PassengerId</th>\n",
       "      <th></th>\n",
       "      <th></th>\n",
       "    </tr>\n",
       "  </thead>\n",
       "  <tbody>\n",
       "    <tr>\n",
       "      <th>5</th>\n",
       "      <td>8.0500</td>\n",
       "      <td>3</td>\n",
       "    </tr>\n",
       "    <tr>\n",
       "      <th>6</th>\n",
       "      <td>8.4583</td>\n",
       "      <td>3</td>\n",
       "    </tr>\n",
       "    <tr>\n",
       "      <th>7</th>\n",
       "      <td>51.8625</td>\n",
       "      <td>1</td>\n",
       "    </tr>\n",
       "    <tr>\n",
       "      <th>8</th>\n",
       "      <td>21.0750</td>\n",
       "      <td>3</td>\n",
       "    </tr>\n",
       "    <tr>\n",
       "      <th>9</th>\n",
       "      <td>11.1333</td>\n",
       "      <td>3</td>\n",
       "    </tr>\n",
       "    <tr>\n",
       "      <th>10</th>\n",
       "      <td>30.0708</td>\n",
       "      <td>2</td>\n",
       "    </tr>\n",
       "  </tbody>\n",
       "</table>\n",
       "</div>"
      ],
      "text/plain": [
       "                Fare  Pclass\n",
       "PassengerId                 \n",
       "5             8.0500       3\n",
       "6             8.4583       3\n",
       "7            51.8625       1\n",
       "8            21.0750       3\n",
       "9            11.1333       3\n",
       "10           30.0708       2"
      ]
     },
     "execution_count": 14,
     "metadata": {},
     "output_type": "execute_result"
    }
   ],
   "source": [
    "# select several columns and rows at once\n",
    "# alternatively: data[[\"Fare\",\"Pclass\"]].loc[5:10]\n",
    "data.loc[5:10, (\"Fare\", \"Pclass\")]"
   ]
  },
  {
   "cell_type": "markdown",
   "metadata": {},
   "source": [
    "Pandas also have some basic data analysis tools. For one, you can quickly display statistical aggregates for each column using `.describe()`"
   ]
  },
  {
   "cell_type": "code",
   "execution_count": 15,
   "metadata": {},
   "outputs": [
    {
     "data": {
      "text/html": [
       "<div>\n",
       "<style scoped>\n",
       "    .dataframe tbody tr th:only-of-type {\n",
       "        vertical-align: middle;\n",
       "    }\n",
       "\n",
       "    .dataframe tbody tr th {\n",
       "        vertical-align: top;\n",
       "    }\n",
       "\n",
       "    .dataframe thead th {\n",
       "        text-align: right;\n",
       "    }\n",
       "</style>\n",
       "<table border=\"1\" class=\"dataframe\">\n",
       "  <thead>\n",
       "    <tr style=\"text-align: right;\">\n",
       "      <th></th>\n",
       "      <th>Survived</th>\n",
       "      <th>Pclass</th>\n",
       "      <th>Age</th>\n",
       "      <th>SibSp</th>\n",
       "      <th>Parch</th>\n",
       "      <th>Fare</th>\n",
       "    </tr>\n",
       "  </thead>\n",
       "  <tbody>\n",
       "    <tr>\n",
       "      <th>count</th>\n",
       "      <td>891.000000</td>\n",
       "      <td>891.000000</td>\n",
       "      <td>714.000000</td>\n",
       "      <td>891.000000</td>\n",
       "      <td>891.000000</td>\n",
       "      <td>891.000000</td>\n",
       "    </tr>\n",
       "    <tr>\n",
       "      <th>mean</th>\n",
       "      <td>0.383838</td>\n",
       "      <td>2.308642</td>\n",
       "      <td>29.699118</td>\n",
       "      <td>0.523008</td>\n",
       "      <td>0.381594</td>\n",
       "      <td>32.204208</td>\n",
       "    </tr>\n",
       "    <tr>\n",
       "      <th>std</th>\n",
       "      <td>0.486592</td>\n",
       "      <td>0.836071</td>\n",
       "      <td>14.526497</td>\n",
       "      <td>1.102743</td>\n",
       "      <td>0.806057</td>\n",
       "      <td>49.693429</td>\n",
       "    </tr>\n",
       "    <tr>\n",
       "      <th>min</th>\n",
       "      <td>0.000000</td>\n",
       "      <td>1.000000</td>\n",
       "      <td>0.420000</td>\n",
       "      <td>0.000000</td>\n",
       "      <td>0.000000</td>\n",
       "      <td>0.000000</td>\n",
       "    </tr>\n",
       "    <tr>\n",
       "      <th>25%</th>\n",
       "      <td>0.000000</td>\n",
       "      <td>2.000000</td>\n",
       "      <td>20.125000</td>\n",
       "      <td>0.000000</td>\n",
       "      <td>0.000000</td>\n",
       "      <td>7.910400</td>\n",
       "    </tr>\n",
       "    <tr>\n",
       "      <th>50%</th>\n",
       "      <td>0.000000</td>\n",
       "      <td>3.000000</td>\n",
       "      <td>28.000000</td>\n",
       "      <td>0.000000</td>\n",
       "      <td>0.000000</td>\n",
       "      <td>14.454200</td>\n",
       "    </tr>\n",
       "    <tr>\n",
       "      <th>75%</th>\n",
       "      <td>1.000000</td>\n",
       "      <td>3.000000</td>\n",
       "      <td>38.000000</td>\n",
       "      <td>1.000000</td>\n",
       "      <td>0.000000</td>\n",
       "      <td>31.000000</td>\n",
       "    </tr>\n",
       "    <tr>\n",
       "      <th>max</th>\n",
       "      <td>1.000000</td>\n",
       "      <td>3.000000</td>\n",
       "      <td>80.000000</td>\n",
       "      <td>8.000000</td>\n",
       "      <td>6.000000</td>\n",
       "      <td>512.329200</td>\n",
       "    </tr>\n",
       "  </tbody>\n",
       "</table>\n",
       "</div>"
      ],
      "text/plain": [
       "         Survived      Pclass         Age       SibSp       Parch        Fare\n",
       "count  891.000000  891.000000  714.000000  891.000000  891.000000  891.000000\n",
       "mean     0.383838    2.308642   29.699118    0.523008    0.381594   32.204208\n",
       "std      0.486592    0.836071   14.526497    1.102743    0.806057   49.693429\n",
       "min      0.000000    1.000000    0.420000    0.000000    0.000000    0.000000\n",
       "25%      0.000000    2.000000   20.125000    0.000000    0.000000    7.910400\n",
       "50%      0.000000    3.000000   28.000000    0.000000    0.000000   14.454200\n",
       "75%      1.000000    3.000000   38.000000    1.000000    0.000000   31.000000\n",
       "max      1.000000    3.000000   80.000000    8.000000    6.000000  512.329200"
      ]
     },
     "execution_count": 15,
     "metadata": {},
     "output_type": "execute_result"
    }
   ],
   "source": [
    "data.describe()"
   ]
  },
  {
   "cell_type": "code",
   "execution_count": 16,
   "metadata": {},
   "outputs": [
    {
     "name": "stdout",
     "output_type": "stream",
     "text": [
      "Only male children\n"
     ]
    },
    {
     "data": {
      "text/html": [
       "<div>\n",
       "<style scoped>\n",
       "    .dataframe tbody tr th:only-of-type {\n",
       "        vertical-align: middle;\n",
       "    }\n",
       "\n",
       "    .dataframe tbody tr th {\n",
       "        vertical-align: top;\n",
       "    }\n",
       "\n",
       "    .dataframe thead th {\n",
       "        text-align: right;\n",
       "    }\n",
       "</style>\n",
       "<table border=\"1\" class=\"dataframe\">\n",
       "  <thead>\n",
       "    <tr style=\"text-align: right;\">\n",
       "      <th></th>\n",
       "      <th>Survived</th>\n",
       "      <th>Pclass</th>\n",
       "      <th>Name</th>\n",
       "      <th>Sex</th>\n",
       "      <th>Age</th>\n",
       "      <th>SibSp</th>\n",
       "      <th>Parch</th>\n",
       "      <th>Ticket</th>\n",
       "      <th>Fare</th>\n",
       "      <th>Cabin</th>\n",
       "      <th>Embarked</th>\n",
       "    </tr>\n",
       "    <tr>\n",
       "      <th>PassengerId</th>\n",
       "      <th></th>\n",
       "      <th></th>\n",
       "      <th></th>\n",
       "      <th></th>\n",
       "      <th></th>\n",
       "      <th></th>\n",
       "      <th></th>\n",
       "      <th></th>\n",
       "      <th></th>\n",
       "      <th></th>\n",
       "      <th></th>\n",
       "    </tr>\n",
       "  </thead>\n",
       "  <tbody>\n",
       "    <tr>\n",
       "      <th>8</th>\n",
       "      <td>0</td>\n",
       "      <td>3</td>\n",
       "      <td>Palsson, Master. Gosta Leonard</td>\n",
       "      <td>male</td>\n",
       "      <td>2.0</td>\n",
       "      <td>3</td>\n",
       "      <td>1</td>\n",
       "      <td>349909</td>\n",
       "      <td>21.0750</td>\n",
       "      <td>NaN</td>\n",
       "      <td>S</td>\n",
       "    </tr>\n",
       "    <tr>\n",
       "      <th>17</th>\n",
       "      <td>0</td>\n",
       "      <td>3</td>\n",
       "      <td>Rice, Master. Eugene</td>\n",
       "      <td>male</td>\n",
       "      <td>2.0</td>\n",
       "      <td>4</td>\n",
       "      <td>1</td>\n",
       "      <td>382652</td>\n",
       "      <td>29.1250</td>\n",
       "      <td>NaN</td>\n",
       "      <td>Q</td>\n",
       "    </tr>\n",
       "    <tr>\n",
       "      <th>51</th>\n",
       "      <td>0</td>\n",
       "      <td>3</td>\n",
       "      <td>Panula, Master. Juha Niilo</td>\n",
       "      <td>male</td>\n",
       "      <td>7.0</td>\n",
       "      <td>4</td>\n",
       "      <td>1</td>\n",
       "      <td>3101295</td>\n",
       "      <td>39.6875</td>\n",
       "      <td>NaN</td>\n",
       "      <td>S</td>\n",
       "    </tr>\n",
       "    <tr>\n",
       "      <th>60</th>\n",
       "      <td>0</td>\n",
       "      <td>3</td>\n",
       "      <td>Goodwin, Master. William Frederick</td>\n",
       "      <td>male</td>\n",
       "      <td>11.0</td>\n",
       "      <td>5</td>\n",
       "      <td>2</td>\n",
       "      <td>CA 2144</td>\n",
       "      <td>46.9000</td>\n",
       "      <td>NaN</td>\n",
       "      <td>S</td>\n",
       "    </tr>\n",
       "    <tr>\n",
       "      <th>64</th>\n",
       "      <td>0</td>\n",
       "      <td>3</td>\n",
       "      <td>Skoog, Master. Harald</td>\n",
       "      <td>male</td>\n",
       "      <td>4.0</td>\n",
       "      <td>3</td>\n",
       "      <td>2</td>\n",
       "      <td>347088</td>\n",
       "      <td>27.9000</td>\n",
       "      <td>NaN</td>\n",
       "      <td>S</td>\n",
       "    </tr>\n",
       "  </tbody>\n",
       "</table>\n",
       "</div>"
      ],
      "text/plain": [
       "             Survived  Pclass                                Name   Sex   Age  \\\n",
       "PassengerId                                                                     \n",
       "8                   0       3      Palsson, Master. Gosta Leonard  male   2.0   \n",
       "17                  0       3                Rice, Master. Eugene  male   2.0   \n",
       "51                  0       3          Panula, Master. Juha Niilo  male   7.0   \n",
       "60                  0       3  Goodwin, Master. William Frederick  male  11.0   \n",
       "64                  0       3               Skoog, Master. Harald  male   4.0   \n",
       "\n",
       "             SibSp  Parch   Ticket     Fare Cabin Embarked  \n",
       "PassengerId                                                 \n",
       "8                3      1   349909  21.0750   NaN        S  \n",
       "17               4      1   382652  29.1250   NaN        Q  \n",
       "51               4      1  3101295  39.6875   NaN        S  \n",
       "60               5      2  CA 2144  46.9000   NaN        S  \n",
       "64               3      2   347088  27.9000   NaN        S  "
      ]
     },
     "execution_count": 16,
     "metadata": {},
     "output_type": "execute_result"
    }
   ],
   "source": [
    "# filters\n",
    "print(\"Only male children\")\n",
    "mc = data[(data['Age'] < 18) & (data['Sex'] == 'male')]\n",
    "mc.head()"
   ]
  },
  {
   "cell_type": "markdown",
   "metadata": {},
   "source": [
    "__More pandas__: \n",
    "* A neat [tutorial](http://pandas.pydata.org/) from pydata\n",
    "* Official [tutorials](https://pandas.pydata.org/pandas-docs/stable/tutorials.html), including this [10 minutes to pandas](https://pandas.pydata.org/pandas-docs/stable/10min.html#min)\n",
    "* Bunch of cheat sheets awaits just one google query away from you (e.g. [combining datasets](https://pbs.twimg.com/media/C65MaMpVwAA3v0A.jpg) and so on). "
   ]
  },
  {
   "cell_type": "markdown",
   "metadata": {},
   "source": [
    "```\n",
    "```\n",
    "<div style=\"background-color:yellow;\">\n",
    "    <h3>Task 1. Your turn:</h3>    \n",
    "</div>\n",
    "\n"
   ]
  },
  {
   "cell_type": "code",
   "execution_count": 25,
   "metadata": {},
   "outputs": [
    {
     "name": "stdout",
     "output_type": "stream",
     "text": [
      "0 0\n"
     ]
    }
   ],
   "source": [
    "# select passengers number 13 and 666 - did they survive?\n",
    "\n",
    "x = data.loc[13]\n",
    "y = data.loc[666]\n",
    "\n",
    "print(x[\"Survived\"], y[\"Survived\"])"
   ]
  },
  {
   "cell_type": "code",
   "execution_count": 52,
   "metadata": {},
   "outputs": [
    {
     "name": "stdout",
     "output_type": "stream",
     "text": [
      "0.3838383838383838\n"
     ]
    }
   ],
   "source": [
    "# compute the overall survival rate (what fraction of passengers survived the shipwreck)\n",
    "\n",
    "x = data[\"Survived\"].sum()\n",
    "x = x/len(data)\n",
    "print(x)"
   ]
  },
  {
   "cell_type": "markdown",
   "metadata": {},
   "source": [
    "### 1.3. Missing values\n",
    "Some columns contain __NaN__ values - this means that there is no data there. For example, passenger `#6` has unknown *Age*, some others have unknown *Fare*. To simplify the data analysis, we can replace missing values by using pandas `fillna` function.\n",
    "\n",
    "_Note: we do this only for the purpose of this tutorial. In general, you think twice before you modify data like this._"
   ]
  },
  {
   "cell_type": "code",
   "execution_count": 53,
   "metadata": {},
   "outputs": [
    {
     "data": {
      "text/plain": [
       "Survived                   0\n",
       "Pclass                     3\n",
       "Name        Moran, Mr. James\n",
       "Sex                     male\n",
       "Age                      NaN\n",
       "SibSp                      0\n",
       "Parch                      0\n",
       "Ticket                330877\n",
       "Fare                  8.4583\n",
       "Cabin                    NaN\n",
       "Embarked                   Q\n",
       "Name: 6, dtype: object"
      ]
     },
     "execution_count": 53,
     "metadata": {},
     "output_type": "execute_result"
    }
   ],
   "source": [
    "# Age before replacement\n",
    "data.loc[6]"
   ]
  },
  {
   "cell_type": "code",
   "execution_count": 54,
   "metadata": {},
   "outputs": [],
   "source": [
    "data['Age'] = data['Age'].fillna(value=data['Age'].mean())\n",
    "data['Fare'] = data['Fare'].fillna(value=data['Fare'].mean())"
   ]
  },
  {
   "cell_type": "code",
   "execution_count": 55,
   "metadata": {},
   "outputs": [
    {
     "data": {
      "text/plain": [
       "Survived                   0\n",
       "Pclass                     3\n",
       "Name        Moran, Mr. James\n",
       "Sex                     male\n",
       "Age                  29.6991\n",
       "SibSp                      0\n",
       "Parch                      0\n",
       "Ticket                330877\n",
       "Fare                  8.4583\n",
       "Cabin                    NaN\n",
       "Embarked                   Q\n",
       "Name: 6, dtype: object"
      ]
     },
     "execution_count": 55,
     "metadata": {},
     "output_type": "execute_result"
    }
   ],
   "source": [
    "# Age after replacement - meaning?\n",
    "data.loc[6]"
   ]
  },
  {
   "cell_type": "markdown",
   "metadata": {},
   "source": [
    "## 2. Numpy and Pandas\n",
    "### 2.1. Arrays\n",
    "\n",
    "Almost any machine learning model requires some computationally heavy lifting often involving vectors and matrices. The raw Python is too slow and too imprecise - so instead, we use `numpy`. The main object here is `numpy.array`, which is used to represent vectors and matrices."
   ]
  },
  {
   "cell_type": "code",
   "execution_count": 56,
   "metadata": {},
   "outputs": [
    {
     "name": "stdout",
     "output_type": "stream",
     "text": [
      "a =  [1 2 3 4 5]\n",
      "b =  [5 4 3 2 1]\n",
      "a + 1 = [2 3 4 5 6]\n",
      "a * 2 = [ 2  4  6  8 10]\n",
      "a == 2 [False  True False False False]\n",
      "a + b = [6 6 6 6 6]\n",
      "a * b = [5 8 9 8 5]\n"
     ]
    }
   ],
   "source": [
    "import numpy as np\n",
    "\n",
    "a = np.array([1, 2, 3, 4, 5])\n",
    "b = np.array([5, 4, 3, 2, 1])\n",
    "print(\"a = \", a)\n",
    "print(\"b = \", b)\n",
    "\n",
    "# math and boolean operations can be applied to each element of an array\n",
    "print(\"a + 1 =\", a + 1)\n",
    "print(\"a * 2 =\", a * 2)\n",
    "print(\"a == 2\", a == 2)\n",
    "\n",
    "# ... or corresponding elements of two (or more) arrays\n",
    "print(\"a + b =\", a + b)\n",
    "print(\"a * b =\", a * b)"
   ]
  },
  {
   "cell_type": "markdown",
   "metadata": {},
   "source": [
    "### 2.2. Matrix/vector operations\n",
    "There's also a bunch of pre-implemented operations on the entire vector/matrix: [cheatsheet](./docs/Numpy_Python_Cheat_Sheet.pdf). "
   ]
  },
  {
   "cell_type": "code",
   "execution_count": 57,
   "metadata": {},
   "outputs": [
    {
     "name": "stdout",
     "output_type": "stream",
     "text": [
      "numpy.sum(a) =  15\n",
      "numpy.mean(a) =  3.0\n",
      "numpy.min(a) =  1\n",
      "numpy.argmin(b) =  4\n",
      "numpy.dot(a,b) =  35\n",
      "numpy.unique(['male','male','female','female','male']) =  ['female' 'male']\n"
     ]
    }
   ],
   "source": [
    "a = np.array([1, 2, 3, 4, 5])\n",
    "b = np.array([5, 4, 3, 2, 1])\n",
    "print(\"numpy.sum(a) = \", np.sum(a))\n",
    "print(\"numpy.mean(a) = \", np.mean(a))\n",
    "print(\"numpy.min(a) = \",  np.min(a))\n",
    "print(\"numpy.argmin(b) = \", np.argmin(b))  # index of minimal element\n",
    "\n",
    "# dot product - used for matrix/vector multiplication\n",
    "print(\"numpy.dot(a,b) = \", np.dot(a, b))\n",
    "\n",
    "print(\"numpy.unique(['male','male','female','female','male']) = \", np.unique(\n",
    "    ['male', 'male', 'female', 'female', 'male']))"
   ]
  },
  {
   "cell_type": "markdown",
   "metadata": {},
   "source": [
    "### 2.3. Indexing/slicing "
   ]
  },
  {
   "cell_type": "code",
   "execution_count": 58,
   "metadata": {},
   "outputs": [
    {
     "name": "stdout",
     "output_type": "stream",
     "text": [
      "a =  [ 0  1  4  9 16 25]\n",
      "Select by index\n",
      "a[[1,2,5]] =  [ 1  4 25]\n"
     ]
    }
   ],
   "source": [
    "a = np.array([0, 1, 4, 9, 16, 25])\n",
    "ix = np.array([1, 2, 5])\n",
    "print(\"a = \", a)\n",
    "print(\"Select by index\")\n",
    "print(\"a[[1,2,5]] = \", a[ix])"
   ]
  },
  {
   "cell_type": "markdown",
   "metadata": {},
   "source": [
    "### 2.4. Boolean operations and filters"
   ]
  },
  {
   "cell_type": "code",
   "execution_count": 59,
   "metadata": {},
   "outputs": [
    {
     "name": "stdout",
     "output_type": "stream",
     "text": [
      "Boolean operations\n",
      "a =  [ 0  1  4  9 16 25]\n",
      "b =  [5 4 3 2 1]\n",
      "a > 2 [False False  True  True  True  True]\n",
      "numpy.logical_not(a>2) =  [ True  True False False False False]\n",
      "numpy.logical_and(a>2,a<10) =  [False False  True  True False False]\n",
      "numpy.logical_or(b<2,b>4) =  [ True False False False  True]\n",
      "\n",
      "Select by boolean filter\n",
      "a[a > 5] =  [ 9 16 25]\n",
      "(a % 2 == 0) = [ True False  True False  True False]\n",
      "a[a % 2 == 0] = [ 0  4 16]\n"
     ]
    }
   ],
   "source": [
    "print(\"Boolean operations\")\n",
    "\n",
    "print('a = ', a)\n",
    "print('b = ', b)\n",
    "print(\"a > 2\", a > 2)\n",
    "print(\"numpy.logical_not(a>2) = \", np.logical_not(a > 2))\n",
    "print(\"numpy.logical_and(a>2,a<10) = \", np.logical_and(a > 2, a < 10))\n",
    "print(\"numpy.logical_or(b<2,b>4) = \", np.logical_or(b < 2, b > 4))\n",
    "\n",
    "print(\"\\nSelect by boolean filter\")\n",
    "print(\"a[a > 5] = \", a[a > 5])\n",
    "\n",
    "print(\"(a % 2 == 0) =\", a % 2 == 0)  # True for even, False for odd\n",
    "print(\"a[a % 2 == 0] =\", a[a % 2 == 0])  # select all elements in a that are even"
   ]
  },
  {
   "cell_type": "markdown",
   "metadata": {},
   "source": [
    "### 2.5. Numpy and pandas dataframe\n",
    "The important part: all this functionality works with pandas dataframes!"
   ]
  },
  {
   "cell_type": "code",
   "execution_count": 60,
   "metadata": {},
   "outputs": [
    {
     "name": "stdout",
     "output_type": "stream",
     "text": [
      "Max ticket price:  512.3292\n",
      "\n",
      "The guy who paid the most:\n",
      " Survived                   1\n",
      "Pclass                     1\n",
      "Name        Ward, Miss. Anna\n",
      "Sex                   female\n",
      "Age                       35\n",
      "SibSp                      0\n",
      "Parch                      0\n",
      "Ticket              PC 17755\n",
      "Fare                 512.329\n",
      "Cabin                    NaN\n",
      "Embarked                   C\n",
      "Name: 259, dtype: object\n"
     ]
    }
   ],
   "source": [
    "print(\"Max ticket price: \", np.max(data[\"Fare\"]))\n",
    "print(\"\\nThe guy who paid the most:\\n\", data.iloc[np.argmax(data[\"Fare\"])])"
   ]
  },
  {
   "cell_type": "markdown",
   "metadata": {},
   "source": [
    "```\n",
    "```\n",
    "<div style=\"background-color:yellow;\">\n",
    "    <h3>Task 2. Your turn:</h3>    \n",
    "</div>\n"
   ]
  },
  {
   "cell_type": "code",
   "execution_count": 72,
   "metadata": {},
   "outputs": [
    {
     "name": "stdout",
     "output_type": "stream",
     "text": [
      "the mean passanger age is: 29.699117647058763\n",
      "The oldest passanger was  80.0  years old\n"
     ]
    }
   ],
   "source": [
    "# your code: compute mean passenger age and the data about the oldest woman on the ship\n",
    "x = data[\"Age\"]\n",
    "print(\"the mean passanger age is:\", x.describe()[1])\n",
    "print(\"The oldest passanger was \", max(x),\" years old\")"
   ]
  },
  {
   "cell_type": "code",
   "execution_count": 90,
   "metadata": {},
   "outputs": [
    {
     "name": "stdout",
     "output_type": "stream",
     "text": [
      "25.523893414211443 44.47981783439491 577\n"
     ]
    }
   ],
   "source": [
    "# who on average paid more for their ticket, men or women?\n",
    "x = data[\"Fare\"]\n",
    "y = data[\"Sex\"]\n",
    "mean_fare_men = x[y == \"male\"].sum()/y[y ==\"male\"].count()\n",
    "mean_fare_women = x[y == \"female\"].sum()/y[y ==\"female\"].count()\n",
    "\n",
    "print(mean_fare_men, mean_fare_women, u)"
   ]
  },
  {
   "cell_type": "code",
   "execution_count": 94,
   "metadata": {},
   "outputs": [
    {
     "name": "stdout",
     "output_type": "stream",
     "text": [
      "0.5398230088495575 0.36118251928020567\n"
     ]
    }
   ],
   "source": [
    "# who is more likely to survive: a child (<18 yo) or an adult?\n",
    "x = data[\"Survived\"]\n",
    "y = data[\"Age\"]\n",
    "\n",
    "child_survival_rate = x[y < 18].sum()/y[y < 18].count()\n",
    "adult_survival_rate = x[y >= 18].sum()/y[y >= 18].count()\n",
    "\n",
    "print(child_survival_rate, adult_survival_rate)"
   ]
  },
  {
   "cell_type": "markdown",
   "metadata": {},
   "source": [
    "More about Pandas:\n",
    "[kaggle microlesson](https://www.kaggle.com/learn/pandas)"
   ]
  },
  {
   "cell_type": "markdown",
   "metadata": {},
   "source": [
    "## 3. Plots and matplotlib\n",
    "\n",
    "Using python to visualize the data is covered by yet another library: `matplotlib`."
   ]
  },
  {
   "cell_type": "code",
   "execution_count": 95,
   "metadata": {},
   "outputs": [
    {
     "data": {
      "text/plain": [
       "[<matplotlib.lines.Line2D at 0x7fabbb22e850>]"
      ]
     },
     "execution_count": 95,
     "metadata": {},
     "output_type": "execute_result"
    },
    {
     "data": {
      "image/png": "[encoded data removed]",
      "text/plain": [
       "<Figure size 432x288 with 1 Axes>"
      ]
     },
     "metadata": {
      "needs_background": "light"
     },
     "output_type": "display_data"
    }
   ],
   "source": [
    "import matplotlib.pyplot as plt\n",
    "%matplotlib inline\n",
    "# ^-- this \"magic\" tells all future matplotlib plots to be drawn inside notebook and not in a separate window.\n",
    "\n",
    "# line plot\n",
    "plt.plot([0, 1, 2, 3, 4, 5], [0, 1, 4, 9, 16, 25])"
   ]
  },
  {
   "cell_type": "code",
   "execution_count": 96,
   "metadata": {},
   "outputs": [
    {
     "data": {
      "image/png": "[encoded data removed]",
      "text/plain": [
       "<Figure size 432x288 with 1 Axes>"
      ]
     },
     "metadata": {
      "needs_background": "light"
     },
     "output_type": "display_data"
    }
   ],
   "source": [
    "# scatter-plot\n",
    "plt.scatter([0, 1, 2, 3, 4, 5], [0, 1, 4, 9, 16, 25])\n",
    "\n",
    "plt.show()  # show the first plot and begin drawing next one"
   ]
  },
  {
   "cell_type": "code",
   "execution_count": 97,
   "metadata": {},
   "outputs": [
    {
     "data": {
      "text/plain": [
       "Text(0, 0.5, '# of data scientists per 100,000')"
      ]
     },
     "execution_count": 97,
     "metadata": {},
     "output_type": "execute_result"
    },
    {
     "data": {
      "image/png": "[encoded data removed]",
      "text/plain": [
       "<Figure size 432x288 with 1 Axes>"
      ]
     },
     "metadata": {
      "needs_background": "light"
     },
     "output_type": "display_data"
    }
   ],
   "source": [
    "# draw a scatter plot with custom markers and colors\n",
    "plt.scatter([1, 1, 2, 3, 4, 4.5], [3, 2, 2, 5, 15, 24],\n",
    "            c=[\"red\", \"blue\", \"orange\", \"green\", \"cyan\", \"gray\"], marker=\"x\")\n",
    "\n",
    "# without .show(), several plots will be drawn on top of one another\n",
    "plt.plot([0, 1, 2, 3, 4, 5], [0, 1, 4, 9, 16, 25], c=\"black\")\n",
    "\n",
    "# adding more sugar\n",
    "plt.title(\"Conspiracy theory proven!!!\")\n",
    "plt.xlabel(\"Per capita alcohol consumption\")\n",
    "plt.ylabel(\"# of data scientists per 100,000\")\n",
    "\n",
    "# fun with correlations: http://bit.ly/1FcNnWF"
   ]
  },
  {
   "cell_type": "code",
   "execution_count": 98,
   "metadata": {},
   "outputs": [
    {
     "data": {
      "image/png": "[encoded data removed]",
      "text/plain": [
       "<Figure size 432x288 with 1 Axes>"
      ]
     },
     "metadata": {
      "needs_background": "light"
     },
     "output_type": "display_data"
    },
    {
     "data": {
      "text/plain": [
       "(array([4., 7., 5., 3., 3.]),\n",
       " array([ 0.,  2.,  4.,  6.,  8., 10.]),\n",
       " <a list of 5 Patch objects>)"
      ]
     },
     "execution_count": 98,
     "metadata": {},
     "output_type": "execute_result"
    },
    {
     "data": {
      "image/png": "[encoded data removed]",
      "text/plain": [
       "<Figure size 432x288 with 1 Axes>"
      ]
     },
     "metadata": {
      "needs_background": "light"
     },
     "output_type": "display_data"
    }
   ],
   "source": [
    "# histogram - showing data density\n",
    "plt.hist([0, 1, 1, 1, 2, 2, 3, 3, 3, 3, 3, 4, 4, 5, 5, 5, 6, 7, 7, 8, 9, 10])\n",
    "plt.show()\n",
    "\n",
    "plt.hist([0, 1, 1, 1, 2, 2, 3, 3, 3, 3, 3, 4,\n",
    "          4, 5, 5, 5, 6, 7, 7, 8, 9, 10], bins=5)"
   ]
  },
  {
   "cell_type": "markdown",
   "metadata": {},
   "source": [
    "```\n",
    "```\n",
    "<div style=\"background-color:yellow;\">\n",
    "    <h3>Task 3. Your turn:</h3>    \n",
    "</div>\n"
   ]
  },
  {
   "cell_type": "code",
   "execution_count": 125,
   "metadata": {},
   "outputs": [
    {
     "data": {
      "image/png": "[encoded data removed]",
      "text/plain": [
       "<Figure size 432x288 with 1 Axes>"
      ]
     },
     "metadata": {
      "needs_background": "light"
     },
     "output_type": "display_data"
    },
    {
     "data": {
      "image/png": "[encoded data removed]",
      "text/plain": [
       "<Figure size 432x288 with 1 Axes>"
      ]
     },
     "metadata": {
      "needs_background": "light"
     },
     "output_type": "display_data"
    }
   ],
   "source": [
    "# plot a histogram of age and a histogram of ticket fares on separate plots\n",
    "\n",
    "plt.hist(data[\"Age\"])\n",
    "plt.show()\n",
    "\n",
    "plt.hist(data[\"Fare\"])\n",
    "plt.show()\n"
   ]
  },
  {
   "cell_type": "code",
   "execution_count": null,
   "metadata": {},
   "outputs": [],
   "source": [
    "# Can you do that? use tab shift-tab to see if there is a way to draw a 2D histogram of age vs fare."
   ]
  },
  {
   "cell_type": "code",
   "execution_count": 123,
   "metadata": {},
   "outputs": [
    {
     "data": {
      "text/plain": [
       "<matplotlib.collections.PathCollection at 0x7fabb251ae90>"
      ]
     },
     "execution_count": 123,
     "metadata": {},
     "output_type": "execute_result"
    },
    {
     "data": {
      "image/png": "[encoded data removed]",
      "text/plain": [
       "<Figure size 432x288 with 1 Axes>"
      ]
     },
     "metadata": {
      "needs_background": "light"
     },
     "output_type": "display_data"
    }
   ],
   "source": [
    "# make a scatter plot of passenger age vs ticket fare\n",
    "\n",
    "x = data[\"Age\"]\n",
    "y = data[\"Fare\"]\n",
    "\n",
    "plt.scatter(x, y)\n",
    "\n",
    "\n",
    "\n",
    "\n",
    "\n"
   ]
  },
  {
   "cell_type": "code",
   "execution_count": 124,
   "metadata": {},
   "outputs": [
    {
     "data": {
      "text/plain": [
       "<matplotlib.collections.PathCollection at 0x7fabb24986d0>"
      ]
     },
     "execution_count": 124,
     "metadata": {},
     "output_type": "execute_result"
    },
    {
     "data": {
      "image/png": "[encoded data removed]",
      "text/plain": [
       "<Figure size 432x288 with 1 Axes>"
      ]
     },
     "metadata": {
      "needs_background": "light"
     },
     "output_type": "display_data"
    }
   ],
   "source": [
    "# Can you do that? add separate colors for men and women\n",
    "x = data[\"Age\"]\n",
    "y = data[\"Fare\"]\n",
    "z = data[\"Sex\"]\n",
    "\n",
    "v = x[z == \"male\"]\n",
    "u = y[z == \"male\"]\n",
    "t = x[z == \"female\"]\n",
    "s = y[z == \"female\"]\n",
    "\n",
    "plt.scatter(v, u, c = \"red\", marker=\"x\")\n",
    "plt.scatter(t, s, c = \"blue\", marker=\"x\")"
   ]
  },
  {
   "cell_type": "markdown",
   "metadata": {},
   "source": [
    "#### More about charts\n",
    "* Extended [tutorial](https://matplotlib.org/2.0.2/users/pyplot_tutorial.html)\n",
    "* A [cheat sheet](docs/Python_Matplotlib_Cheat_Sheet.pdf)\n",
    "* Other libraries for more sophisticated stuff: [Plotly](https://plot.ly/python/) and [Bokeh](https://bokeh.pydata.org/en/latest/)\n",
    "* Also check ou this micro-lesson from kaggle: [data visualization](https://www.kaggle.com/learn/data-visualization)"
   ]
  },
  {
   "cell_type": "markdown",
   "metadata": {},
   "source": [
    "### This is the end of the pandas-primer lab. \n",
    "We learned some pandas, some numpy, and some matplotlib.\n",
    "\n",
    "Copyright &copy; 2020 Marina Barsky."
   ]
  }
 ],
 "metadata": {
  "kernelspec": {
   "display_name": "Python 3",
   "language": "python",
   "name": "python3"
  },
  "language_info": {
   "codemirror_mode": {
    "name": "ipython",
    "version": 3
   },
   "file_extension": ".py",
   "mimetype": "text/x-python",
   "name": "python",
   "nbconvert_exporter": "python",
   "pygments_lexer": "ipython3",
   "version": "3.7.6"
  }
 },
 "nbformat": 4,
 "nbformat_minor": 1
}
