{
 "cells": [
  {
   "cell_type": "markdown",
   "metadata": {},
   "source": [
    "# Jupyter Notebooks Demo\n",
    "## 1. Jupyter notebooks \n",
    "\n",
    "* Jupyter notebook is a document where you can create and share live code, equations, visualizations as well as text.\n",
    "* You are reading this line in a jupyter notebook.\n",
    "* A notebook consists of cells. A cell can contain either code or _markdown_. \n",
    "    * This cell contains hypertext. The next cell contains code.\n",
    "* If you are not familiar with markdown, here is a quick reference [cheatsheet](https://wordpress.com/support/markdown-quick-reference/).\n",
    "* Many other cheatsheets and documentation can be found under the `Help` menu.\n",
    "* You can __run a cell__ with code by selecting it (click) and pressing `Ctrl + Enter` to execute the code and display output (if any).\n",
    "* If you're running this on a device with no keyboard, use topbar __run/stop/restart__ buttons to run the cell.\n",
    "* Behind the curtains, there's a python interpreter that runs that code and remembers anything you defined.\n",
    "\n",
    "Run the following cells to get started. Note that you can get the value of a variable the same way as in a Python shell."
   ]
  },
  {
   "cell_type": "code",
   "execution_count": 1,
   "metadata": {},
   "outputs": [],
   "source": [
    "a = 5"
   ]
  },
  {
   "cell_type": "code",
   "execution_count": 2,
   "metadata": {},
   "outputs": [],
   "source": [
    "a = a**2"
   ]
  },
  {
   "cell_type": "code",
   "execution_count": 3,
   "metadata": {},
   "outputs": [
    {
     "data": {
      "text/plain": [
       "25"
      ]
     },
     "execution_count": 3,
     "metadata": {},
     "output_type": "execute_result"
    }
   ],
   "source": [
    "a"
   ]
  },
  {
   "cell_type": "code",
   "execution_count": 4,
   "metadata": {},
   "outputs": [
    {
     "name": "stdout",
     "output_type": "stream",
     "text": [
      "25\n"
     ]
    }
   ],
   "source": [
    "print(a)"
   ]
  },
  {
   "cell_type": "markdown",
   "metadata": {},
   "source": [
    "* __`Ctrl + S`__ to save changes (or use the button that looks like a floppy disk)\n",
    "* __Top menu -> Kernel -> Interrupt__ (or Stop button) if you want it to stop running cell midway.\n",
    "* __Top menu -> Kernel -> Restart__ (or cyclic arrow button) if interrupt doesn't fix the problem (you will lose all variables).\n",
    "* To make the interpreter to forget all your previous runs and start running from scratch, use __Kernel/Restart and Clear output__ button.\n",
    "\n",
    "* More tutorials: [Hacker's guide](http://arogozhnikov.github.io/2016/09/10/jupyter-features.html), [Datacamp tutorial](https://www.datacamp.com/community/tutorials/tutorial-jupyter-notebook). \n",
    "\n",
    "<br>__Intellisense__ : \n",
    "* if you're typing something, press `Tab` to see automatic suggestions, use arrow keys + enter to pick one.\n",
    "* if you write a question mark at the end of the function, you will get function signature in a docstring window."
   ]
  },
  {
   "cell_type": "markdown",
   "metadata": {},
   "source": [
    "<div style=\"background-color:yellow;\">    \n",
    "    <h4>Exercise</h4>\n",
    "Type this in the next cell:<br>\n",
    "`import math`<br>\n",
    "`math.a` \n",
    "    \n",
    " </div> "
   ]
  },
  {
   "cell_type": "code",
   "execution_count": 5,
   "metadata": {},
   "outputs": [],
   "source": [
    "# play with intellisense\n",
    "import math\n",
    "math.atan2?\n",
    "\n",
    "# then place your cursor at the end of the unfinished line 'math.a ...' and press Tab\n",
    "# select function that computes arctangent from two parameters (should have 2 in it's name)\n",
    "# once you select the function, type the question mark and run the cell to see the docstring "
   ]
  },
  {
   "cell_type": "markdown",
   "metadata": {},
   "source": [
    "## Sharing notebooks\n",
    "Simplest way is to share notebook file (.ipynb), but not everyone has the kernel installed. You can share the book and provide a link to the online notebook viewer [nbviewer](https://nbviewer.org/). Other options are:\n",
    "\n",
    "* Convert a notebook to html file (after running all the cells). Use `File/Download as` command.\n",
    "* Store the notebook on github (with some limitations, but in most cases it will render it). This makes it very useful to keep history of your research (if research is public).\n",
    "* Store your notebooks on google drive and open them with Google [colab](https://colab.research.google.com/). The users of your notebooks can have problems with accessing your data files.\n",
    "\n",
    "In this course you will work locally on your notebooks and upload them to github (option 2)."
   ]
  },
  {
   "cell_type": "markdown",
   "metadata": {},
   "source": [
    " $\\log{a}$"
   ]
  },
  {
   "cell_type": "markdown",
   "metadata": {},
   "source": [
    "## Formulae and equations\n",
    "You can use latex to write formulae and equations in a markdown cell using the same syntax as in latex. Here is a reference: [latex in markdown](https://ashki23.github.io/markdown-latex.html). Double-click this cell to see the examples.\n",
    "\n",
    "- $x \\times y$ \n",
    "- $x \\div y$\n",
    "- $\\dfrac{x}{y}$\n",
    "- $\\sqrt{x}$\n",
    "\n",
    "$$P \\left( A=2 \\, \\middle| \\, \\dfrac{A^2}{B}>4 \\right)$$"
   ]
  }
 ],
 "metadata": {
  "kernelspec": {
   "display_name": "Python 3",
   "language": "python",
   "name": "python3"
  },
  "language_info": {
   "codemirror_mode": {
    "name": "ipython",
    "version": 3
   },
   "file_extension": ".py",
   "mimetype": "text/x-python",
   "name": "python",
   "nbconvert_exporter": "python",
   "pygments_lexer": "ipython3",
   "version": "3.7.6"
  }
 },
 "nbformat": 4,
 "nbformat_minor": 4
}
